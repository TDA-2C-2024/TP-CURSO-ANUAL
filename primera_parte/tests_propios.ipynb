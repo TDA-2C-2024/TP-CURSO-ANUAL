{
 "cells": [
  {
   "cell_type": "code",
   "execution_count": 23,
   "metadata": {},
   "outputs": [],
   "source": [
    "from primera_parte import algoritmo_greedy\n",
    "from collections import deque\n",
    "primera_moneda_sophia =\"Primera moneda para Sophia\"\n",
    "ultima_moneda_sophia = \"Última moneda para Sophia\"\n",
    "primera_moneda_mateo = \"Primera moneda para Mateo\"\n",
    "ultima_moneda_mateo = \"Última moneda para Mateo\""
   ]
  },
  {
   "cell_type": "markdown",
   "metadata": {},
   "source": [
    "### Caso de prueba 1:\n"
   ]
  },
  {
   "cell_type": "code",
   "execution_count": 24,
   "metadata": {},
   "outputs": [
    {
     "name": "stdout",
     "output_type": "stream",
     "text": [
      "Prueba 1 pasada con éxito\n"
     ]
    }
   ],
   "source": [
    "#Monedas para el set de prueba:\n",
    "monedas = [5, 3, 7, 10]\n",
    "resultado_esperado_sophia = 17\n",
    "resultado_esperado_mateo = 8\n",
    "orden_turnos_esperado = \"Última moneda para Sophia; Primera moneda para Mateo; Última moneda para Sophia; Última moneda para Mateo\"\n",
    "deque_monedas = deque(monedas)\n",
    "copia_monedas = deque_monedas.copy()\n",
    "\n",
    "#Ejecución del algortimo\n",
    "resultado = algoritmo_greedy(deque_monedas)\n",
    "\n",
    "ganancia_sophia = []\n",
    "ganancia_mateo = []\n",
    "for eleccion in resultado:\n",
    "    if eleccion == primera_moneda_sophia:\n",
    "        ganancia_sophia.append(copia_monedas.popleft())\n",
    "    elif eleccion == ultima_moneda_sophia:\n",
    "        ganancia_sophia.append(copia_monedas.pop())\n",
    "    elif eleccion == primera_moneda_mateo:\n",
    "        ganancia_mateo.append(copia_monedas.popleft())\n",
    "    elif eleccion == ultima_moneda_mateo:\n",
    "        ganancia_mateo.append(copia_monedas.pop())\n",
    "    \n",
    "#Comprobación de resultados\n",
    "resultado_sofia = sum(ganancia_sophia)\n",
    "resultado_mateo = sum(ganancia_mateo)\n",
    "\n",
    "assert(resultado_esperado_sophia == resultado_sofia)\n",
    "assert(resultado_esperado_mateo == resultado_mateo)\n",
    "assert(orden_turnos_esperado == \"; \".join(resultado))\n",
    "print(\"Prueba 1 pasada con éxito\")\n"
   ]
  },
  {
   "cell_type": "markdown",
   "metadata": {},
   "source": [
    "### Caso de prueba 2:\n"
   ]
  },
  {
   "cell_type": "code",
   "execution_count": 25,
   "metadata": {},
   "outputs": [
    {
     "name": "stdout",
     "output_type": "stream",
     "text": [
      "Prueba 2 pasada con éxito\n"
     ]
    }
   ],
   "source": [
    "monedas = [1, 2, 9, 4, 8, 3, 7]\n",
    "resultado_esperado_sophia = 27\n",
    "resultado_esperado_mateo = 7\n",
    "orden_turnos_esperado = \"Última moneda para Sophia; Primera moneda para Mateo; Última moneda para Sophia; Primera moneda para Mateo; Primera moneda para Sophia; Primera moneda para Mateo; Última moneda para Sophia\"\n",
    "deque_monedas = deque(monedas)\n",
    "copia_monedas = deque_monedas.copy()\n",
    "\n",
    "# Ejecución del algoritmo\n",
    "resultado = algoritmo_greedy(deque_monedas)\n",
    "\n",
    "ganancia_sophia = []\n",
    "ganancia_mateo = []\n",
    "for eleccion in resultado:\n",
    "    if eleccion == primera_moneda_sophia:\n",
    "        ganancia_sophia.append(copia_monedas.popleft())\n",
    "    elif eleccion == ultima_moneda_sophia:\n",
    "        ganancia_sophia.append(copia_monedas.pop())\n",
    "    elif eleccion == primera_moneda_mateo:\n",
    "        ganancia_mateo.append(copia_monedas.popleft())\n",
    "    elif eleccion == ultima_moneda_mateo:\n",
    "        ganancia_mateo.append(copia_monedas.pop())\n",
    "\n",
    "\n",
    "# Comprobación de resultados\n",
    "resultado_sofia = sum(ganancia_sophia)\n",
    "resultado_mateo = sum(ganancia_mateo)\n",
    "\n",
    "assert(resultado_esperado_sophia == resultado_sofia)\n",
    "assert(resultado_esperado_mateo == resultado_mateo)\n",
    "assert(orden_turnos_esperado == \"; \".join(resultado))\n",
    "print(\"Prueba 2 pasada con éxito\")"
   ]
  },
  {
   "cell_type": "markdown",
   "metadata": {},
   "source": [
    "### Caso de prueba 3:\n"
   ]
  },
  {
   "cell_type": "code",
   "execution_count": 26,
   "metadata": {},
   "outputs": [
    {
     "name": "stdout",
     "output_type": "stream",
     "text": [
      "Prueba 3 pasada con éxito\n"
     ]
    }
   ],
   "source": [
    "monedas = [10, 8, 6, 4, 2]\n",
    "resultado_esperado_sophia = 24\n",
    "resultado_esperado_mateo = 6\n",
    "orden_turnos_esperado = \"Primera moneda para Sophia; Última moneda para Mateo; Primera moneda para Sophia; Última moneda para Mateo; Última moneda para Sophia\"\n",
    "deque_monedas = deque(monedas)\n",
    "copia_monedas = deque_monedas.copy()\n",
    "\n",
    "# Ejecución del algoritmo\n",
    "resultado = algoritmo_greedy(deque_monedas)\n",
    "\n",
    "ganancia_sophia = []\n",
    "ganancia_mateo = []\n",
    "for eleccion in resultado:\n",
    "    if eleccion == primera_moneda_sophia:\n",
    "        ganancia_sophia.append(copia_monedas.popleft())\n",
    "    elif eleccion == ultima_moneda_sophia:\n",
    "        ganancia_sophia.append(copia_monedas.pop())\n",
    "    elif eleccion == primera_moneda_mateo:\n",
    "        ganancia_mateo.append(copia_monedas.popleft())\n",
    "    elif eleccion == ultima_moneda_mateo:\n",
    "        ganancia_mateo.append(copia_monedas.pop())\n",
    "\n",
    "\n",
    "# Comprobación de resultados\n",
    "resultado_sofia = sum(ganancia_sophia)\n",
    "resultado_mateo = sum(ganancia_mateo)\n",
    "\n",
    "\n",
    "\n",
    "assert(resultado_esperado_sophia == resultado_sofia)\n",
    "assert(resultado_esperado_mateo == resultado_mateo)\n",
    "assert(orden_turnos_esperado == \"; \".join(resultado))\n",
    "print(\"Prueba 3 pasada con éxito\")"
   ]
  },
  {
   "cell_type": "markdown",
   "metadata": {},
   "source": [
    "### Caso de prueba 4:\n"
   ]
  },
  {
   "cell_type": "code",
   "execution_count": 27,
   "metadata": {},
   "outputs": [
    {
     "name": "stdout",
     "output_type": "stream",
     "text": [
      "Prueba 4 pasada con éxito\n"
     ]
    }
   ],
   "source": [
    "monedas = [2, 4, 6, 8, 10, 12, 14, 16, 18, 20]\n",
    "resultado_esperado_sophia = 80\n",
    "resultado_esperado_mateo = 30\n",
    "orden_turnos_esperado = \"Última moneda para Sophia; Primera moneda para Mateo; Última moneda para Sophia; Primera moneda para Mateo; Última moneda para Sophia; Primera moneda para Mateo; Última moneda para Sophia; Primera moneda para Mateo; Última moneda para Sophia; Última moneda para Mateo\"\n",
    "deque_monedas = deque(monedas)\n",
    "copia_monedas = deque_monedas.copy()\n",
    "\n",
    "# Ejecución del algoritmo\n",
    "resultado = algoritmo_greedy(deque_monedas)\n",
    "\n",
    "ganancia_sophia = []\n",
    "ganancia_mateo = []\n",
    "for eleccion in resultado:\n",
    "    if eleccion == primera_moneda_sophia:\n",
    "        ganancia_sophia.append(copia_monedas.popleft())\n",
    "    elif eleccion == ultima_moneda_sophia:\n",
    "        ganancia_sophia.append(copia_monedas.pop())\n",
    "    elif eleccion == primera_moneda_mateo:\n",
    "        ganancia_mateo.append(copia_monedas.popleft())\n",
    "    elif eleccion == ultima_moneda_mateo:\n",
    "        ganancia_mateo.append(copia_monedas.pop())\n",
    "\n",
    "\n",
    "# Comprobación de resultados\n",
    "resultado_sofia = sum(ganancia_sophia)\n",
    "resultado_mateo = sum(ganancia_mateo)\n",
    "\n",
    "assert(resultado_esperado_sophia == resultado_sofia)\n",
    "assert(resultado_esperado_mateo == resultado_mateo)\n",
    "assert(orden_turnos_esperado == \"; \".join(resultado))\n",
    "print(\"Prueba 4 pasada con éxito\")"
   ]
  }
 ],
 "metadata": {
  "kernelspec": {
   "display_name": "Python 3",
   "language": "python",
   "name": "python3"
  },
  "language_info": {
   "codemirror_mode": {
    "name": "ipython",
    "version": 3
   },
   "file_extension": ".py",
   "mimetype": "text/x-python",
   "name": "python",
   "nbconvert_exporter": "python",
   "pygments_lexer": "ipython3",
   "version": "3.11.9"
  }
 },
 "nbformat": 4,
 "nbformat_minor": 2
}

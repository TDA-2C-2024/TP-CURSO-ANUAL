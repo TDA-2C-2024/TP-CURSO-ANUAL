{
 "cells": [
  {
   "cell_type": "code",
   "execution_count": 23,
   "metadata": {},
   "outputs": [],
   "source": [
    "from segunda_parte import obtener_cantidad_max"
   ]
  },
  {
   "cell_type": "markdown",
   "metadata": {},
   "source": [
    "### Caso de prueba 1:\n"
   ]
  },
  {
   "cell_type": "code",
   "execution_count": 24,
   "metadata": {},
   "outputs": [
    {
     "name": "stdout",
     "output_type": "stream",
     "text": [
      "Prueba 1 pasada con éxito\n"
     ]
    }
   ],
   "source": [
    "#Monedas para el set de prueba:\n",
    "monedas = [5, 3, 7, 10]\n",
    "resultado_esperado_sophia = 15\n",
    "resultado_esperado_mateo = 10\n",
    "orden_turnos_esperado = \"Sophia debe agarrar la ultima (10); Mateo agarra la ultima (7); Sophia debe agarrar la primera (5); Mateo agarra la ultima (3)\"\n",
    "\n",
    "#Ejecución del algortimo\n",
    "monedas_sofia, monedas_mateo, resultado = obtener_cantidad_max(monedas)\n",
    "\n",
    "#Comprobación de resultados\n",
    "resultado_sofia = sum(monedas_sofia)\n",
    "resultado_mateo = sum(monedas_mateo)\n",
    "\n",
    "assert(resultado_esperado_sophia == resultado_sofia)\n",
    "assert(resultado_esperado_mateo == resultado_mateo)\n",
    "assert(orden_turnos_esperado == \"; \".join(resultado))\n",
    "print(\"Prueba 1 pasada con éxito\")\n"
   ]
  },
  {
   "cell_type": "markdown",
   "metadata": {},
   "source": [
    "### Caso de prueba 2:\n"
   ]
  },
  {
   "cell_type": "code",
   "execution_count": 25,
   "metadata": {},
   "outputs": [
    {
     "name": "stdout",
     "output_type": "stream",
     "text": [
      "Prueba 2 pasada con éxito\n"
     ]
    }
   ],
   "source": [
    "monedas = [1, 2, 9, 4, 8, 3, 7]\n",
    "resultado_esperado_sophia = 25\n",
    "resultado_esperado_mateo = 9\n",
    "orden_turnos_esperado = \"Sophia debe agarrar la ultima (7); Mateo agarra la ultima (3); Sophia debe agarrar la ultima (8); Mateo agarra la ultima (4); Sophia debe agarrar la ultima (9); Mateo agarra la ultima (2); Sophia debe agarrar la primera (1)\"\n",
    "\n",
    "# Ejecución del algoritmo\n",
    "monedas_sofia, monedas_mateo, resultado = obtener_cantidad_max(monedas)\n",
    "\n",
    "# Comprobación de resultados\n",
    "resultado_sofia = sum(monedas_sofia)\n",
    "resultado_mateo = sum(monedas_mateo)\n",
    "\n",
    "assert(resultado_esperado_sophia == resultado_sofia)\n",
    "assert(resultado_esperado_mateo == resultado_mateo)\n",
    "assert(orden_turnos_esperado == \"; \".join(resultado))\n",
    "print(\"Prueba 2 pasada con éxito\")"
   ]
  },
  {
   "cell_type": "markdown",
   "metadata": {},
   "source": [
    "### Caso de prueba 3:\n"
   ]
  },
  {
   "cell_type": "code",
   "execution_count": 27,
   "metadata": {},
   "outputs": [
    {
     "ename": "IndexError",
     "evalue": "list index out of range",
     "output_type": "error",
     "traceback": [
      "\u001b[1;31m---------------------------------------------------------------------------\u001b[0m",
      "\u001b[1;31mIndexError\u001b[0m                                Traceback (most recent call last)",
      "Cell \u001b[1;32mIn[27], line 7\u001b[0m\n\u001b[0;32m      4\u001b[0m orden_turnos_esperado \u001b[38;5;241m=\u001b[39m \u001b[38;5;124m\"\u001b[39m\u001b[38;5;124mSophia debe agarrar la ultima (7); Mateo agarra la ultima (3); Sophia debe agarrar la ultima (8); Mateo agarra la ultima (4); Sophia debe agarrar la ultima (9); Mateo agarra la ultima (2); Sophia debe agarrar la primera (1)\u001b[39m\u001b[38;5;124m\"\u001b[39m\n\u001b[0;32m      6\u001b[0m \u001b[38;5;66;03m# Ejecución del algoritmo\u001b[39;00m\n\u001b[1;32m----> 7\u001b[0m monedas_sofia, monedas_mateo, resultado \u001b[38;5;241m=\u001b[39m \u001b[43mobtener_cantidad_max\u001b[49m\u001b[43m(\u001b[49m\u001b[43mmonedas\u001b[49m\u001b[43m)\u001b[49m\n\u001b[0;32m      9\u001b[0m \u001b[38;5;66;03m# Comprobación de resultados\u001b[39;00m\n\u001b[0;32m     10\u001b[0m resultado_sofia \u001b[38;5;241m=\u001b[39m \u001b[38;5;28msum\u001b[39m(monedas_sofia)\n",
      "File \u001b[1;32mc:\\Users\\rmine\\OneDrive\\Escritorio\\Facultad\\TP-CURSO-ANUAL\\TP-CURSO-ANUAL\\segunda_parte\\segunda_parte.py:37\u001b[0m, in \u001b[0;36mobtener_cantidad_max\u001b[1;34m(arr)\u001b[0m\n\u001b[0;32m     33\u001b[0m solucion \u001b[38;5;241m=\u001b[39m buscar_solucion_iterativa(arr, optimos)\n\u001b[0;32m     34\u001b[0m \u001b[38;5;66;03m# print(\"Solucion: \", solucion)\u001b[39;00m\n\u001b[0;32m     35\u001b[0m \u001b[38;5;66;03m# for fila in optimos:\u001b[39;00m\n\u001b[0;32m     36\u001b[0m \u001b[38;5;66;03m#     print(fila)\u001b[39;00m\n\u001b[1;32m---> 37\u001b[0m \u001b[38;5;28;01mreturn\u001b[39;00m \u001b[43mreconstruir_monedas\u001b[49m\u001b[43m(\u001b[49m\u001b[43marr\u001b[49m\u001b[43m,\u001b[49m\u001b[43m \u001b[49m\u001b[43moptimos\u001b[49m\u001b[43m)\u001b[49m\n",
      "File \u001b[1;32mc:\\Users\\rmine\\OneDrive\\Escritorio\\Facultad\\TP-CURSO-ANUAL\\TP-CURSO-ANUAL\\segunda_parte\\segunda_parte.py:49\u001b[0m, in \u001b[0;36mreconstruir_monedas\u001b[1;34m(arr, dp)\u001b[0m\n\u001b[0;32m     45\u001b[0m resultado \u001b[38;5;241m=\u001b[39m []\n\u001b[0;32m     47\u001b[0m \u001b[38;5;28;01mwhile\u001b[39;00m i \u001b[38;5;241m<\u001b[39m\u001b[38;5;241m=\u001b[39m j:\n\u001b[0;32m     48\u001b[0m     \u001b[38;5;66;03m# Opción 1: Sofía toma arr[i]\u001b[39;00m\n\u001b[1;32m---> 49\u001b[0m     \u001b[38;5;28;01mif\u001b[39;00m \u001b[43marr\u001b[49m\u001b[43m[\u001b[49m\u001b[43mi\u001b[49m\u001b[43m \u001b[49m\u001b[38;5;241;43m+\u001b[39;49m\u001b[43m \u001b[49m\u001b[38;5;241;43m1\u001b[39;49m\u001b[43m]\u001b[49m \u001b[38;5;241m>\u001b[39m arr[j]:\n\u001b[0;32m     50\u001b[0m         \u001b[38;5;66;03m# Mateo toma arr[i + 1]\u001b[39;00m\n\u001b[0;32m     51\u001b[0m         take_first \u001b[38;5;241m=\u001b[39m arr[i] \u001b[38;5;241m+\u001b[39m (dp[i \u001b[38;5;241m+\u001b[39m \u001b[38;5;241m2\u001b[39m][j] \u001b[38;5;28;01mif\u001b[39;00m i \u001b[38;5;241m+\u001b[39m \u001b[38;5;241m2\u001b[39m \u001b[38;5;241m<\u001b[39m\u001b[38;5;241m=\u001b[39m j \u001b[38;5;28;01melse\u001b[39;00m \u001b[38;5;241m0\u001b[39m)\n\u001b[0;32m     52\u001b[0m     \u001b[38;5;28;01melse\u001b[39;00m:\n\u001b[0;32m     53\u001b[0m         \u001b[38;5;66;03m# Mateo toma arr[j]\u001b[39;00m\n",
      "\u001b[1;31mIndexError\u001b[0m: list index out of range"
     ]
    }
   ],
   "source": [
    "monedas = [10, 8, 6, 4, 2]\n",
    "resultado_esperado_sophia = 25\n",
    "resultado_esperado_mateo = 9\n",
    "orden_turnos_esperado = \"Sophia debe agarrar la ultima (7); Mateo agarra la ultima (3); Sophia debe agarrar la ultima (8); Mateo agarra la ultima (4); Sophia debe agarrar la ultima (9); Mateo agarra la ultima (2); Sophia debe agarrar la primera (1)\"\n",
    "\n",
    "# Ejecución del algoritmo\n",
    "monedas_sofia, monedas_mateo, resultado = obtener_cantidad_max(monedas)\n",
    "\n",
    "# Comprobación de resultados\n",
    "resultado_sofia = sum(monedas_sofia)\n",
    "resultado_mateo = sum(monedas_mateo)\n",
    "\n",
    "print(\"; \".join(resultado))\n",
    "print(resultado_sofia)\n",
    "print(resultado_mateo)\n",
    "\n",
    "assert(resultado_esperado_sophia == resultado_sofia)\n",
    "assert(resultado_esperado_mateo == resultado_mateo)\n",
    "assert(orden_turnos_esperado == \"; \".join(resultado))\n",
    "print(\"Prueba 2 pasada con éxito\")"
   ]
  }
 ],
 "metadata": {
  "kernelspec": {
   "display_name": "Python 3",
   "language": "python",
   "name": "python3"
  },
  "language_info": {
   "codemirror_mode": {
    "name": "ipython",
    "version": 3
   },
   "file_extension": ".py",
   "mimetype": "text/x-python",
   "name": "python",
   "nbconvert_exporter": "python",
   "pygments_lexer": "ipython3",
   "version": "3.11.9"
  }
 },
 "nbformat": 4,
 "nbformat_minor": 2
}
